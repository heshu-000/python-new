{
  "nbformat": 4,
  "nbformat_minor": 0,
  "metadata": {
    "colab": {
      "name": "Module-01 .ipynb",
      "provenance": [],
      "authorship_tag": "ABX9TyN+NbpqQtPf+pYdpab5BpeJ",
      "include_colab_link": true
    },
    "kernelspec": {
      "name": "python3",
      "display_name": "Python 3"
    },
    "language_info": {
      "name": "python"
    }
  },
  "cells": [
    {
      "cell_type": "markdown",
      "metadata": {
        "id": "view-in-github",
        "colab_type": "text"
      },
      "source": [
        "<a href=\"https://colab.research.google.com/github/heshu-000/python-new/blob/module-1/Module_01_.ipynb\" target=\"_parent\"><img src=\"https://colab.research.google.com/assets/colab-badge.svg\" alt=\"Open In Colab\"/></a>"
      ]
    },
    {
      "cell_type": "code",
      "execution_count": null,
      "metadata": {
        "colab": {
          "base_uri": "https://localhost:8080/"
        },
        "id": "c6_JdoMLAaDe",
        "outputId": "8e6f3f4e-cfd9-474d-e8f5-c981117c48f7"
      },
      "outputs": [
        {
          "output_type": "stream",
          "name": "stdout",
          "text": [
            "Enter name: heshu\n",
            "Enter age: 17\n",
            "heshu\n",
            "17\n"
          ]
        }
      ],
      "source": [
        "# Accept input from user and store it in variable and print the value\n",
        "a = str(input(\"Enter name: \"))\n",
        "b = int(input(\"Enter age: \"))\n",
        "print (a)\n",
        "print (b)\n",
        "\n"
      ]
    },
    {
      "cell_type": "code",
      "source": [
        "#Use of print statements and use of (.format )for printing different data types.\n",
        "a = \"heshu\"\n",
        "b = \"VU21CSEN0100188\"\n",
        "c = \"cse\"\n",
        "d = \"name {} roll {} branch {}\"\n",
        "print(d.format(a,b,c))\n"
      ],
      "metadata": {
        "colab": {
          "base_uri": "https://localhost:8080/"
        },
        "id": "2wl2ny9CBZkM",
        "outputId": "17718504-c4b2-4f01-cea3-7c35093e055c"
      },
      "execution_count": null,
      "outputs": [
        {
          "output_type": "stream",
          "name": "stdout",
          "text": [
            "name heshu roll VU21CSEN0100188 branch cse\n"
          ]
        }
      ]
    },
    {
      "cell_type": "code",
      "source": [
        "#Take 2 numbers as user input and add, multiply, divide, subtract, remainder and print\n",
        "a=int(input(\"Enter a: \"))\n",
        "b=int(input(\"Enter b: \"))\n",
        "add = a + b\n",
        "sub = a - b\n",
        "mul = a * b\n",
        "div = a / b\n",
        "rem = a % b\n",
        "print (add)\n",
        "print (sub)\n",
        "print (mul)\n",
        "print (div)\n",
        "print (rem)\n"
      ],
      "metadata": {
        "colab": {
          "base_uri": "https://localhost:8080/"
        },
        "id": "7AWwMgEWBmtT",
        "outputId": "eacfed29-a3cc-4aa8-fef4-a72b27fab4de"
      },
      "execution_count": null,
      "outputs": [
        {
          "output_type": "stream",
          "name": "stdout",
          "text": [
            "Enter a: 3\n",
            "Enter b: 3\n",
            "6\n",
            "0\n",
            "9\n",
            "1.0\n",
            "0\n"
          ]
        }
      ]
    },
    {
      "cell_type": "code",
      "source": [
        "#Conversion of one unit to another (such as hours to minutes, miles to km and etc)\n",
        "hours = int(input(\"Enter hour: \"))\n",
        "minutes = 60 * hours\n",
        "print (minutes)\n"
      ],
      "metadata": {
        "colab": {
          "base_uri": "https://localhost:8080/"
        },
        "id": "-h3dIZhkB0EP",
        "outputId": "9d142a42-d496-4ff2-a3c0-708cbe37eb92"
      },
      "execution_count": null,
      "outputs": [
        {
          "output_type": "stream",
          "name": "stdout",
          "text": [
            "Enter hour: 12\n",
            "720\n"
          ]
        }
      ]
    },
    {
      "cell_type": "code",
      "source": [
        "#Usage of mathematical functions in python like math.ceil, floor, fabs, fmod, trunc,pow, sqrt etc.\n",
        "import math \n",
        "\n",
        "my_int = 4.5467\n",
        "print (math.ceil(my_int))\n"
      ],
      "metadata": {
        "colab": {
          "base_uri": "https://localhost:8080/"
        },
        "id": "fTeVkHnZCBek",
        "outputId": "e89343a3-dcad-4183-b590-d68358e4716b"
      },
      "execution_count": null,
      "outputs": [
        {
          "output_type": "stream",
          "name": "stdout",
          "text": [
            "5\n"
          ]
        }
      ]
    },
    {
      "cell_type": "code",
      "source": [
        "import math \n",
        "\n",
        "my_int = 4.5467\n",
        "print (math.floor(my_int))\n"
      ],
      "metadata": {
        "colab": {
          "base_uri": "https://localhost:8080/"
        },
        "id": "G9cpU9-kCQmF",
        "outputId": "8cca4321-530a-40df-9eb0-18e45253bcaf"
      },
      "execution_count": null,
      "outputs": [
        {
          "output_type": "stream",
          "name": "stdout",
          "text": [
            "4\n"
          ]
        }
      ]
    },
    {
      "cell_type": "code",
      "source": [
        "#Building a mathematical calculator that can perform operations according to user input.\n",
        "#Use decision making statement\n",
        "print (\"Enter 1 for addition\")\n",
        "print (\"Enter 2 for subtraction\")\n",
        "print (\"Enter 3 for multiplication\")\n",
        "print (\"Enter 4 for division\")\n",
        "op = int(input(\"Enter number corresponding to operation:\"))\n",
        "a=int(input(\"Enter a: \"))\n",
        "b=int(input(\"Enter b: \"))\n",
        "if op == 1:\n",
        "  print(a + b)\n",
        "elif op == 2:\n",
        "  print(a - b)\n",
        "elif op == 3:\n",
        "  print(a * b)\n",
        "elif op == 4:\n",
        "  print(a / b)\n",
        "else:\n",
        "  print(\"Error\")\n",
        "2\n"
      ],
      "metadata": {
        "colab": {
          "base_uri": "https://localhost:8080/"
        },
        "id": "myYBH6-NCWP2",
        "outputId": "9f071831-9222-4c54-9e9d-5d9a052ca06d"
      },
      "execution_count": null,
      "outputs": [
        {
          "output_type": "stream",
          "name": "stdout",
          "text": [
            "Enter 1 for addition\n",
            "Enter 2 for subtraction\n",
            "Enter 3 for multiplication\n",
            "Enter 4 for division\n",
            "Enter number corresponding to operation:3\n",
            "Enter a: 2\n",
            "Enter b: 2\n",
            "4\n"
          ]
        },
        {
          "output_type": "execute_result",
          "data": {
            "text/plain": [
              "2"
            ]
          },
          "metadata": {},
          "execution_count": 8
        }
      ]
    },
    {
      "cell_type": "code",
      "source": [
        "#Accepting 5 different subject marks from user and displaying the grade of the student.\n",
        "sub1 = int(input(\"Enter marks in sub1: \"))\n",
        "sub2 = int(input(\"Enter marks in sub2: \"))\n",
        "sub3 = int(input(\"Enter marks in sub3: \"))\n",
        "sub4 = int(input(\"Enter marks in sub4: \"))\n",
        "sub5 = int(input(\"Enter marks in sub5: \"))\n",
        "#sub1\n",
        "if sub1 >= 90:\n",
        "  print(\"A in sub1\")\n",
        "elif (90 > sub1 >= 80):\n",
        "  print(\"B in sub1\")\n",
        "elif (80 > sub1 >= 70):\n",
        "  print(\"C in sub1\")\n",
        "elif (70 > sub1 >= 60):\n",
        "  print(\"D in sub1\")\n",
        "elif (60 > sub1 >= 50):\n",
        "  print(\"E in sub1\")\n",
        "else:\n",
        "  print(\"f\")\n",
        "#sub2\n",
        "if sub2 >= 90:\n",
        "  print(\"A in sub2\")\n",
        "elif (90 > sub2 >= 80):\n",
        "  print(\"B in sub2\")\n",
        "elif (80 > sub2 >= 70):\n",
        "  print(\"C in sub2\")\n",
        "elif (70 > sub2 >= 60):\n",
        "  print(\"D in sub2\")\n",
        "elif (60 > sub2 >= 50):\n",
        "  print(\"E in sub2\")\n",
        "else:\n",
        "  print(\"f\")\n",
        "#sub3\n",
        "if sub3 >= 90:\n",
        "  print(\"A in sub3\")\n",
        "elif (90 > sub3 >= 80):\n",
        "  print(\"B in sub3\")\n",
        "elif (80 > sub3 >= 70):\n",
        "  print(\"C in sub3\")\n",
        "elif (70 > sub3 >= 60):\n",
        "  print(\"D in sub3\")\n",
        "elif (60 > sub3 >= 50):\n",
        "  print(\"E in sub3\")\n",
        "else:\n",
        "  print(\"f\")\n",
        "#sub4\n",
        "if sub4 >= 90:\n",
        "  print(\"A in sub4\")\n",
        "elif (90 > sub4 >= 80):\n",
        "  print(\"B in sub4\")\n",
        "elif (80 > sub4 >= 70):\n",
        "  print(\"C in sub4\")\n",
        "elif (70 > sub4 >= 60):\n",
        "  print(\"D in sub4\")\n",
        "elif (60 > sub4 >= 50):\n",
        "  print(\"E in sub4\")\n",
        "else:\n",
        "  print(\"f\")\n",
        "#sub5\n",
        "if sub5 >= 90:\n",
        "  print(\"A in sub5\")\n",
        "elif (90 > sub5 >= 80):\n",
        "  print(\"B in sub5\")\n",
        "elif (80 > sub5 >= 70):\n",
        "  print(\"C in sub5\")\n",
        "elif (70 > sub5 >= 60):\n",
        "  print(\"D in sub5\")\n",
        "elif (60 > sub5 >= 50):\n",
        "  print(\"E in sub5\")\n",
        "else:\n",
        "  print(\"f\")\n",
        "\n",
        "\n"
      ],
      "metadata": {
        "colab": {
          "base_uri": "https://localhost:8080/"
        },
        "id": "C01BRbbuCxa1",
        "outputId": "29e1f303-0c6e-44b2-bc58-059dd0ab9cc8"
      },
      "execution_count": null,
      "outputs": [
        {
          "output_type": "stream",
          "name": "stdout",
          "text": [
            "Enter marks in sub1: 80\n",
            "Enter marks in sub2: 80\n",
            "Enter marks in sub3: 80\n",
            "Enter marks in sub4: 90\n",
            "Enter marks in sub5: 80\n",
            "B in sub1\n",
            "B in sub2\n",
            "B in sub3\n",
            "A in sub4\n",
            "B in sub5\n"
          ]
        }
      ]
    },
    {
      "cell_type": "code",
      "source": [
        "#Printing all even numbers, odd numbers, count of even numbers, count of odd numbers within a given range.\n",
        "range = int(input(\"Enter range of numbers: \"))\n",
        "a = 1\n",
        "even = []\n",
        "odd = []\n",
        "while a <= range:\n",
        "  if a % 2 == 0:\n",
        "    even.append (a)\n",
        "    a = a + 1\n",
        "  else:\n",
        "    odd.append (a)\n",
        "    a = a + 1\n",
        "print (\"Even numbers are \",even)\n",
        "print (\"Odd numbers are \",odd)\n",
        "print (\"Number of even number within the given range are \",len(even))\n",
        "print (\"Number of odd number within the given range are \",len(odd))"
      ],
      "metadata": {
        "colab": {
          "base_uri": "https://localhost:8080/"
        },
        "id": "NOCYwfNjDl7y",
        "outputId": "b742d80a-88fe-4cc7-b5ba-b7e9303f9022"
      },
      "execution_count": null,
      "outputs": [
        {
          "output_type": "stream",
          "name": "stdout",
          "text": [
            "Enter range of numbers: 3\n",
            "Even numbers are  [2]\n",
            "Odd numbers are  [1, 3]\n",
            "Number of even number within the given range are  1\n",
            "Number of odd number within the given range are  2\n"
          ]
        }
      ]
    },
    {
      "cell_type": "code",
      "source": [
        "# Compute the factorial of a given number. b) Compute GCD of two given numbers. c) Generate Fibonacci series up to N numbers\n",
        "# Factorial\n",
        "num = int(input(\"Enter num \"))\n",
        "factorial = 1\n",
        "for i in range(1,num + 1):\n",
        "  factorial = factorial*i    \n",
        "print(\"The factorial of\",num,\"is\",factorial)\n",
        "\n"
      ],
      "metadata": {
        "colab": {
          "base_uri": "https://localhost:8080/"
        },
        "id": "jCO3EKuOENkM",
        "outputId": "3f95848f-41f9-4eb6-9ddf-3706c2dfc325"
      },
      "execution_count": null,
      "outputs": [
        {
          "output_type": "stream",
          "name": "stdout",
          "text": [
            "Enter num 5\n",
            "The factorial of 5 is 120\n"
          ]
        }
      ]
    },
    {
      "cell_type": "code",
      "source": [
        "# Fibonacci\n",
        "nterms = int(input(\"How many terms? \"))\n",
        "n1, n2 = 0, 1\n",
        "count = 0\n",
        "if nterms <= 0:\n",
        "   print(\"Please enter a positive integer\")\n",
        "elif nterms == 1:\n",
        "   print(\"Fibonacci sequence upto\",nterms,\":\")\n",
        "   print(n1)\n",
        "else:\n",
        "   print(\"Fibonacci sequence:\")\n",
        "   while count < nterms:\n",
        "       print(n1)\n",
        "       nth = n1 + n2\n",
        "       \n",
        "       n1 = n2\n",
        "       n2 = nth\n",
        "       count += 1\n"
      ],
      "metadata": {
        "id": "HuyagcpbQB4u",
        "outputId": "e7d5a3e4-25eb-4b4a-a348-c663eba1ac22",
        "colab": {
          "base_uri": "https://localhost:8080/"
        }
      },
      "execution_count": null,
      "outputs": [
        {
          "output_type": "stream",
          "name": "stdout",
          "text": [
            "How many terms? 7\n",
            "Fibonacci sequence:\n",
            "0\n",
            "1\n",
            "1\n",
            "2\n",
            "3\n",
            "5\n",
            "8\n"
          ]
        }
      ]
    },
    {
      "cell_type": "code",
      "source": [
        "# GCD\n",
        "num1 = int(input(\"Enter first number: \"))\n",
        "num2 = int(input(\"Enter second number: \"))\n",
        "a = 1\n",
        "b = 1\n",
        "fact1 = []\n",
        "fact2 = []\n",
        "\n",
        "trash1 = []\n",
        "trash2 = []\n",
        "\n",
        "common = []\n",
        "result = []\n",
        "#NUM1\n",
        "while a <= num1:\n",
        "  if num1 % a == 0:\n",
        "    fact1.append(a)\n",
        "    a = a + 1\n",
        "  else:\n",
        "    trash1.append(a)\n",
        "    a = a + 1\n",
        "#NUM2\n",
        "while b <= num2:\n",
        "  if num2 % b == 0:\n",
        "    fact2.append(b)\n",
        "    b = b + 1\n",
        "  else:\n",
        "    trash2.append(a)\n",
        "    b = b + 1\n",
        "common = (set(fact1).intersection(fact2))\n",
        "result = list(common)\n",
        "print (\"The HCF of\",num1,\"and\",num2,\"is\",result [-1])\n"
      ],
      "metadata": {
        "colab": {
          "base_uri": "https://localhost:8080/"
        },
        "id": "BN-UgFWCMpW-",
        "outputId": "4d05956e-b2fc-49b0-e66a-389d4d457e0d"
      },
      "execution_count": null,
      "outputs": [
        {
          "output_type": "stream",
          "name": "stdout",
          "text": [
            "Enter first number: 40\n",
            "Enter second number: 60\n",
            "The HCF of 40 and 60 is 20\n"
          ]
        }
      ]
    },
    {
      "cell_type": "code",
      "source": [
        "#Check whether the given input is a) palindrome b) strong c) perfect\n",
        "# A)\n",
        "num=int(input(\"Enter a number:\"))\n",
        "temp=num\n",
        "rev=0\n",
        "while(num>0):\n",
        "    dig=num%10\n",
        "    rev=rev*10+dig\n",
        "    num=num//10\n",
        "if(temp==rev):\n",
        "     print(\"The number is palindrome!\")\n",
        "else:\n",
        "    print(\"Not a palindrome!\")\n"
      ],
      "metadata": {
        "colab": {
          "base_uri": "https://localhost:8080/"
        },
        "id": "A2EjDpPJEqnA",
        "outputId": "9ad38d76-5ce7-41e1-a77a-bf76d1cf40d3"
      },
      "execution_count": null,
      "outputs": [
        {
          "output_type": "stream",
          "name": "stdout",
          "text": [
            "Enter a number:5\n",
            "The number is palindrome!\n"
          ]
        }
      ]
    },
    {
      "cell_type": "code",
      "source": [
        "#b\n",
        "num = int(input(\"Enter a number: \"))\n",
        "sum = 0\n",
        "temp = num\n",
        "while temp > 0:\n",
        "   digit = temp % 10\n",
        "   sum += digit ** 3\n",
        "   temp //= 10\n",
        "if num == sum:\n",
        "   print(num,\"is an Armstrong number\")\n",
        "else:\n",
        "   print(num,\"is not an Armstrong number\")\n",
        "\n"
      ],
      "metadata": {
        "colab": {
          "base_uri": "https://localhost:8080/"
        },
        "id": "UgrdcIy0FC72",
        "outputId": "465d30e2-c8f4-41b8-e97f-b5a3bac104fc"
      },
      "execution_count": null,
      "outputs": [
        {
          "output_type": "stream",
          "name": "stdout",
          "text": [
            "Enter a number: 153\n",
            "153 is an Armstrong number\n"
          ]
        }
      ]
    },
    {
      "cell_type": "code",
      "source": [
        "#c\n",
        "n = int(input(\"Enter any number: \"))\n",
        "sum1 = 0\n",
        "for i in range(1, n):\n",
        "    if(n % i == 0):\n",
        "        sum1 = sum1 + i\n",
        "if (sum1 == n):\n",
        "    print(\"The number is a Perfect number!\")\n",
        "else:\n",
        "    print(\"The number is not a Perfect number!\")\n"
      ],
      "metadata": {
        "colab": {
          "base_uri": "https://localhost:8080/"
        },
        "id": "A-aFO3ZLGIsB",
        "outputId": "1b4dc119-ddaf-48a6-862b-82fc0ccaea47"
      },
      "execution_count": null,
      "outputs": [
        {
          "output_type": "stream",
          "name": "stdout",
          "text": [
            "Enter any number: 6\n",
            "The number is a Perfect number!\n"
          ]
        }
      ]
    },
    {
      "cell_type": "code",
      "source": [
        "def palindrome (num):\n",
        "  final = num\n",
        "  temp = num\n",
        "  rev = 0\n",
        "  while (num > 0):\n",
        "    last = num % 10\n",
        "    rev = rev * 10 + last\n",
        "    num = num // 10\n",
        "  if (temp == rev):\n",
        "    print (final,\"is a palindrome.\")\n",
        "  else:\n",
        "    print (final,\"is not a palindrome.\")\n",
        "def armstrong (num):\n",
        "  sum = 0\n",
        "  temp = num\n",
        "  while temp > 0:\n",
        "   digit = temp % 10\n",
        "   sum += digit ** 3\n",
        "   temp //= 10\n",
        "  if num == sum:\n",
        "   print(num,\"is an Armstrong number\")\n",
        "  else:\n",
        "   print(num,\"is not an Armstrong number\")\n",
        "\n",
        "def perfect (num):\n",
        "  sum_v=0  \n",
        "  for i in range(1,num):  \n",
        "    if (num%i==0):  \n",
        "        sum_v=sum_v+i  \n",
        "  if(sum_v==num):  \n",
        "    print(num,\"is a perfect number\")  \n",
        "  else:  \n",
        "    print(num,\"is not a perfect number\")  \n",
        "\n",
        "\n",
        "num = int(input(\"Enter a number: \"))\n",
        "palindrome(num)\n",
        "armstrong (num)\n",
        "perfect (num)\n"
      ],
      "metadata": {
        "id": "bT2FnD5xRGDJ",
        "outputId": "7db5d0cc-a6c3-4df7-c222-06bfb9b3b9d3",
        "colab": {
          "base_uri": "https://localhost:8080/"
        }
      },
      "execution_count": null,
      "outputs": [
        {
          "output_type": "stream",
          "name": "stdout",
          "text": [
            "Enter a number: 2\n",
            "2 is a palindrome.\n",
            "2 is not an Armstrong number\n",
            "2 is not a perfect number\n"
          ]
        }
      ]
    },
    {
      "cell_type": "code",
      "source": [
        "# Compute compound interest using loop for a certain principal and interest amount\n",
        "\n",
        "n=int(input(\"Enter the principle amount:\"))\n",
        "\n",
        "rate=int(input(\"Enter the rate:\"))\n",
        "\n",
        "years=int(input(\"Enter the number of years:\"))\n",
        "\n",
        "for i in range(years):\n",
        "  n=n+((n*rate)/100)\n",
        "\n",
        "print(n)\n"
      ],
      "metadata": {
        "colab": {
          "base_uri": "https://localhost:8080/"
        },
        "id": "JQ8ZUXRaGoko",
        "outputId": "8dd4a185-521c-4fa8-ecd2-596db1be405a"
      },
      "execution_count": null,
      "outputs": [
        {
          "output_type": "stream",
          "name": "stdout",
          "text": [
            "Enter the principle amount:500\n",
            "Enter the rate:7\n",
            "Enter the number of years:9\n",
            "919.2296062100772\n"
          ]
        }
      ]
    }
  ]
}