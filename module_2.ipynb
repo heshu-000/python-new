{
  "nbformat": 4,
  "nbformat_minor": 0,
  "metadata": {
    "colab": {
      "name": "module--2.ipynb",
      "provenance": [],
      "authorship_tag": "ABX9TyOVTT70edC8lRQt3rY8Efi5",
      "include_colab_link": true
    },
    "kernelspec": {
      "name": "python3",
      "display_name": "Python 3"
    },
    "language_info": {
      "name": "python"
    }
  },
  "cells": [
    {
      "cell_type": "markdown",
      "metadata": {
        "id": "view-in-github",
        "colab_type": "text"
      },
      "source": [
        "<a href=\"https://colab.research.google.com/github/heshu-000/python-new/blob/module-2/module_2.ipynb\" target=\"_parent\"><img src=\"https://colab.research.google.com/assets/colab-badge.svg\" alt=\"Open In Colab\"/></a>"
      ]
    },
    {
      "cell_type": "markdown",
      "source": [
        "# Create a function which accepts two inputs from the user and compute n Cr\n"
      ],
      "metadata": {
        "id": "RW8Bj-e3tHFA"
      }
    },
    {
      "cell_type": "code",
      "source": [
        "def nCr(n, r):\n",
        "\n",
        "\treturn (fact(n) / (fact(r)\n",
        "\t\t\t\t* fact(n - r)))\n",
        "def fact(n):\n",
        "\n",
        "\tres = 1\n",
        "\t\n",
        "\tfor i in range(2, n+1):\n",
        "\t\tres = res * i\n",
        "\t\t\n",
        "\treturn res\n",
        "n = 7\n",
        "r = 4\n",
        "print(int(nCr(n, r)))\n"
      ],
      "metadata": {
        "colab": {
          "base_uri": "https://localhost:8080/"
        },
        "id": "edoHpY62tKTb",
        "outputId": "9927e256-b0f9-42cf-cb40-62758e30a679"
      },
      "execution_count": null,
      "outputs": [
        {
          "output_type": "stream",
          "name": "stdout",
          "text": [
            "35\n"
          ]
        }
      ]
    },
    {
      "cell_type": "markdown",
      "source": [
        "# Program to print a specified list after removing the 0th, 4th and 5th elements.\n",
        "Sample List : ['Red', 'Green', 'White', 'Black', 'Pink', 'Yellow'] Expected Output : ['Green', 'White', 'Black'\n",
        "\n"
      ],
      "metadata": {
        "id": "YiF24UeStYgs"
      }
    },
    {
      "cell_type": "code",
      "source": [
        "colour = ['Red', 'Green', 'White', 'Black', 'Pink', 'Yellow']\n",
        "colour.pop(0)\n",
        "colour.pop(3)\n",
        "colour.pop(3)\n",
        "print(colour)"
      ],
      "metadata": {
        "colab": {
          "base_uri": "https://localhost:8080/"
        },
        "id": "X-sJ2RKctgf_",
        "outputId": "6220c503-f471-4df8-e6bd-4d3c4f1cff94"
      },
      "execution_count": null,
      "outputs": [
        {
          "output_type": "stream",
          "name": "stdout",
          "text": [
            "['Green', 'White', 'Black']\n"
          ]
        }
      ]
    },
    {
      "cell_type": "markdown",
      "source": [
        "# Program to get the difference between the two lists\n"
      ],
      "metadata": {
        "id": "qcXD0uFdtx8X"
      }
    },
    {
      "cell_type": "code",
      "source": [
        "list1 = [7, 9, 11, 13, 15]\n",
        "list2=[7, 2, 4, 6, 13, 8]\n",
        "x = set(list1)\n",
        "y = set(list2)\n",
        "def diff(x,y):\n",
        "  p = x.difference(y)\n",
        "  q = y.difference(x)\n",
        "  g = list(p)\n",
        "  e = list(q)\n",
        "  r = g+e\n",
        "  print(r)\n",
        "diff(x,y)\n"
      ],
      "metadata": {
        "colab": {
          "base_uri": "https://localhost:8080/"
        },
        "id": "AdkGwHiWt3zd",
        "outputId": "4db71036-4c45-4d48-9a4a-94dc0c9db846"
      },
      "execution_count": null,
      "outputs": [
        {
          "output_type": "stream",
          "name": "stdout",
          "text": [
            "[9, 11, 15, 8, 2, 4, 6]\n"
          ]
        }
      ]
    },
    {
      "cell_type": "markdown",
      "source": [
        "# Program to find the second smallest number and second largest number in a list.\n"
      ],
      "metadata": {
        "id": "QAM2dpnsuU8Z"
      }
    },
    {
      "cell_type": "code",
      "source": [
        "p = [2,3,9,8,5,6]\n",
        "def dc():\n",
        "  b = sorted(p)\n",
        "  small2 = b[1]\n",
        "  big2 = b[-2]\n",
        "  print(small2)\n",
        "  print(big2)\n",
        "dc()\n"
      ],
      "metadata": {
        "colab": {
          "base_uri": "https://localhost:8080/"
        },
        "id": "VScoHXJMubHp",
        "outputId": "39dd0e8a-e280-4ac5-8309-8a7da78c6f0c"
      },
      "execution_count": null,
      "outputs": [
        {
          "output_type": "stream",
          "name": "stdout",
          "text": [
            "3\n",
            "8\n"
          ]
        }
      ]
    },
    {
      "cell_type": "markdown",
      "source": [
        "# Given a list of numbers of list, write a Python program to create a list of tuples having first element as the number and second element as the square of the number\n"
      ],
      "metadata": {
        "id": "fgmxxmKhupJR"
      }
    },
    {
      "cell_type": "code",
      "source": [
        "import math\n",
        "a=[5,6,7,8,9]\n",
        "b=[]\n",
        "def dc():\n",
        "  for i in a:\n",
        "    c=(i,i*i)\n",
        "    b.append(c)\n",
        "    c=tuple(b)\n",
        "  print(c)\n",
        "  print(type(c))\n",
        "dc()\n"
      ],
      "metadata": {
        "colab": {
          "base_uri": "https://localhost:8080/"
        },
        "id": "kfkZn-qSuqcU",
        "outputId": "2df2bb72-f62a-4b2f-cec5-5f9f5f420669"
      },
      "execution_count": null,
      "outputs": [
        {
          "output_type": "stream",
          "name": "stdout",
          "text": [
            "((5, 25), (6, 36), (7, 49), (8, 64), (9, 81))\n",
            "<class 'tuple'>\n"
          ]
        }
      ]
    },
    {
      "cell_type": "markdown",
      "source": [
        "# Given list of tuples, remove all the tuples with length K.\n",
        "Input : test_list = [(4, 5), (4, ), (8, 6, 7), (1, ), (3, 4, 6, 7)], K = 2 Output : [(4, ), (8, 6, 7), (1, ), (3, 4, 6, 7)] Explanation : (4, 5) of len = 2 is removed.\n",
        "\n"
      ],
      "metadata": {
        "id": "GfeqsaXiu3R6"
      }
    },
    {
      "cell_type": "code",
      "source": [
        "a =  [(4, 5), (4, ), (8, 6, 7), (1, ), (3, 4, 6, 7)]\n",
        "i = 0\n",
        "while i < len(a):\n",
        "  if len(a[i]) == 2:\n",
        "    a.pop(i)\n",
        "  else:\n",
        "    i = i+1\n",
        "print(a)\n"
      ],
      "metadata": {
        "colab": {
          "base_uri": "https://localhost:8080/"
        },
        "id": "KJ7YdIgru48F",
        "outputId": "61d3c1f3-fcfc-4fd6-c9be-4feb60a6d622"
      },
      "execution_count": null,
      "outputs": [
        {
          "output_type": "stream",
          "name": "stdout",
          "text": [
            "[(4,), (8, 6, 7), (1,), (3, 4, 6, 7)]\n"
          ]
        }
      ]
    },
    {
      "cell_type": "markdown",
      "source": [
        "# Program to generate and print a dictionary that contains a number (between 1and n) in the form (x, x*x).\n",
        "Sample Input: (n=6) : Expected Output : {1: 1, 2: 4, 3: 9, 4: 16, 5: 25,6:36}\n",
        "\n"
      ],
      "metadata": {
        "id": "kjClM90uvIF0"
      }
    },
    {
      "cell_type": "code",
      "source": [
        "import math\n",
        "a=[1,2,3,4,5,6]\n",
        "b=[]\n",
        "def dc():\n",
        "  for i in a:\n",
        "    c=(i,i*i)\n",
        "    b.append(c)\n",
        "    c=dict(b)\n",
        "  print(c)\n",
        "  print(type(c))\n",
        "dc()\n"
      ],
      "metadata": {
        "colab": {
          "base_uri": "https://localhost:8080/"
        },
        "id": "esKd-kmFvJ7g",
        "outputId": "fb677182-685d-4d86-bdcc-584cd2203825"
      },
      "execution_count": null,
      "outputs": [
        {
          "output_type": "stream",
          "name": "stdout",
          "text": [
            "{1: 1, 2: 4, 3: 9, 4: 16, 5: 25, 6: 36}\n",
            "<class 'dict'>\n"
          ]
        }
      ]
    },
    {
      "cell_type": "markdown",
      "source": [
        "# Program to remove a key from a dictionary\n"
      ],
      "metadata": {
        "id": "krPvECIqvYst"
      }
    },
    {
      "cell_type": "code",
      "source": [
        "a = {\n",
        "   4: \"20\",\n",
        "   66: \"79\",\n",
        "   88 : \"99\"\n",
        "}\n",
        "del a[88]\n",
        "print(a)\n"
      ],
      "metadata": {
        "colab": {
          "base_uri": "https://localhost:8080/"
        },
        "id": "m_xLkkujvikT",
        "outputId": "80bbe4e6-9b1a-4d70-c393-090f8ed2933a"
      },
      "execution_count": null,
      "outputs": [
        {
          "output_type": "stream",
          "name": "stdout",
          "text": [
            "{4: '20', 66: '79'}\n"
          ]
        }
      ]
    },
    {
      "cell_type": "markdown",
      "source": [
        "# Program to get the maximum and minimum value in a dictionary"
      ],
      "metadata": {
        "id": "7qwVr4r8v5mS"
      }
    },
    {
      "cell_type": "code",
      "source": [
        "a = {1,40,20,30,10,37,80} \n",
        "print(max(a),min(a))\n"
      ],
      "metadata": {
        "colab": {
          "base_uri": "https://localhost:8080/"
        },
        "id": "EQwyYmiqv-Oi",
        "outputId": "9b506ba6-4058-4de4-faad-974f9bb55f8a"
      },
      "execution_count": null,
      "outputs": [
        {
          "output_type": "stream",
          "name": "stdout",
          "text": [
            "80 1\n"
          ]
        }
      ]
    },
    {
      "cell_type": "markdown",
      "source": [
        "# Program to perform operations on string using unicodes ,splitting of string,accessing elements of string using locations"
      ],
      "metadata": {
        "id": "hMg1KqlmwIYT"
      }
    },
    {
      "cell_type": "code",
      "source": [
        "a= \"happy to see you\"\n",
        "print(a.split())\n",
        "print(a[1:3])\n"
      ],
      "metadata": {
        "colab": {
          "base_uri": "https://localhost:8080/"
        },
        "id": "m1IowrPywM6l",
        "outputId": "27ee4fff-6998-46e9-ea89-6f6ddabbf06d"
      },
      "execution_count": null,
      "outputs": [
        {
          "output_type": "stream",
          "name": "stdout",
          "text": [
            "['happy', 'to', 'see', 'you']\n",
            "ap\n"
          ]
        }
      ]
    },
    {
      "cell_type": "markdown",
      "source": [
        "# Program for Counting occurrence of a certain element in a string, getting indexes that have matching elements.For ex -.In Rabbit count how many times b has occurred .\n"
      ],
      "metadata": {
        "id": "7yj32z6ewamE"
      }
    },
    {
      "cell_type": "code",
      "source": [
        "a= \"happy to see you\"\n",
        "print(a.count(\"r\"))\n"
      ],
      "metadata": {
        "colab": {
          "base_uri": "https://localhost:8080/"
        },
        "id": "tvHFicAfwgW-",
        "outputId": "de96375c-92e4-4a5b-f0f4-a024192b43dc"
      },
      "execution_count": null,
      "outputs": [
        {
          "output_type": "stream",
          "name": "stdout",
          "text": [
            "0\n"
          ]
        }
      ]
    },
    {
      "cell_type": "markdown",
      "source": [
        "# Program for replacing one substring by another For example - Rabbit - Replace µbb¶ b\\µcc¶\n"
      ],
      "metadata": {
        "id": "M2lV7mdtwytz"
      }
    },
    {
      "cell_type": "code",
      "source": [
        "a=\"prajwall\"\n",
        "print (a.replace(\"l\" , \"a\" ))\n"
      ],
      "metadata": {
        "colab": {
          "base_uri": "https://localhost:8080/"
        },
        "id": "AyKOIJoowz6F",
        "outputId": "78831171-e76c-4fb9-f2eb-b5e40afdf70e"
      },
      "execution_count": null,
      "outputs": [
        {
          "output_type": "stream",
          "name": "stdout",
          "text": [
            "prajwaaa\n"
          ]
        }
      ]
    },
    {
      "cell_type": "markdown",
      "source": [
        "# Program to Acronym generator for any user input (ex-input is Random memory access then output should be RMA).Example - Random number (RN)\n"
      ],
      "metadata": {
        "id": "8etAdBxMxH3S"
      }
    },
    {
      "cell_type": "code",
      "source": [
        "string = input(\":\")\n",
        "php = \"\"\n",
        "smol = string.split(\" \")\n",
        "for word in smol:\n",
        "  php = php + word[0].upper()\n",
        "print(php)"
      ],
      "metadata": {
        "colab": {
          "base_uri": "https://localhost:8080/"
        },
        "id": "Ep5YJvl3xJfW",
        "outputId": "96bea4cb-bdf0-4867-e398-d7f96a4c99b8"
      },
      "execution_count": null,
      "outputs": [
        {
          "output_type": "stream",
          "name": "stdout",
          "text": [
            ":union bank\n",
            "UB\n"
          ]
        }
      ]
    },
    {
      "cell_type": "markdown",
      "source": [
        "# Python function that accepts a string and calculates the number of uppercase letters and lowercase letters\n"
      ],
      "metadata": {
        "id": "dTRsnYwWxeoO"
      }
    },
    {
      "cell_type": "code",
      "source": [
        "def string(a):\n",
        "    b=0;c=0\n",
        "    for x in a:\n",
        "        if x.isupper():\n",
        "           b=b+1\n",
        "        else:\n",
        "           c=c+1\n",
        "    print(\"the lower values\", b)\n",
        "    print(\"the upper values\", c)\n",
        "\n",
        "string(\"Abdevilers\")\n"
      ],
      "metadata": {
        "colab": {
          "base_uri": "https://localhost:8080/"
        },
        "id": "uIBGMXZ0xgGB",
        "outputId": "f2197888-0755-4428-c5dc-4a14612c5fb1"
      },
      "execution_count": null,
      "outputs": [
        {
          "output_type": "stream",
          "name": "stdout",
          "text": [
            "the lower values 1\n",
            "the upper values 9\n"
          ]
        }
      ]
    },
    {
      "cell_type": "markdown",
      "source": [
        "# Program to count the number of strings where the string length is 2 or more and the first and last character are same from a given list of strings\n",
        "x Sample List : ['abc', 'xyz', 'aba', '1221'] Expected Result : 2\n",
        "\n"
      ],
      "metadata": {
        "id": "UUZ7V3eNxv5K"
      }
    },
    {
      "cell_type": "code",
      "source": [
        "a=['abc', 'abz', 'aba', '1431']\n",
        "c=0\n",
        "for x in a :\n",
        "    if len(x)>=2:\n",
        "        if x[0]==x[-1]:\n",
        "            c=c+1\n",
        "print(\"the string of length 2 is\",c)\n"
      ],
      "metadata": {
        "colab": {
          "base_uri": "https://localhost:8080/"
        },
        "id": "RQlXs65hx2-I",
        "outputId": "dcba581f-e299-47dc-8c8d-4b1993df6e13"
      },
      "execution_count": null,
      "outputs": [
        {
          "output_type": "stream",
          "name": "stdout",
          "text": [
            "the string of length 2 is 2\n"
          ]
        }
      ]
    }
  ]
}